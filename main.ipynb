{
 "cells": [
  {
   "cell_type": "code",
   "execution_count": 1,
   "metadata": {
    "execution": {
     "iopub.execute_input": "2021-01-14T14:53:46.756543Z",
     "iopub.status.busy": "2021-01-14T14:53:46.756122Z",
     "iopub.status.idle": "2021-01-14T14:53:46.794320Z",
     "shell.execute_reply": "2021-01-14T14:53:46.793800Z",
     "shell.execute_reply.started": "2021-01-14T14:53:46.756448Z"
    }
   },
   "outputs": [],
   "source": [
    "%load_ext autoreload\n",
    "%autoreload 2"
   ]
  },
  {
   "cell_type": "code",
   "execution_count": 93,
   "metadata": {
    "ExecuteTime": {
     "end_time": "2021-01-09T12:26:04.757442Z",
     "start_time": "2021-01-09T12:26:04.560182Z"
    },
    "execution": {
     "iopub.execute_input": "2021-01-14T19:02:45.201439Z",
     "iopub.status.busy": "2021-01-14T19:02:45.201241Z",
     "iopub.status.idle": "2021-01-14T19:02:45.213526Z",
     "shell.execute_reply": "2021-01-14T19:02:45.212921Z",
     "shell.execute_reply.started": "2021-01-14T19:02:45.201416Z"
    }
   },
   "outputs": [],
   "source": [
    "import sys\n",
    "sys.setrecursionlimit(8000)\n",
    "\n",
    "import numpy as np\n",
    "import os\n",
    "\n",
    "import functions.utils as ut\n",
    "from functions.graph import *"
   ]
  },
  {
   "cell_type": "markdown",
   "metadata": {},
   "source": [
    "# Homework premises and preprocessing steps\n",
    "## Data and setting\n",
    "There are many options to collect and build the Wikipedia's underlying network, we rely on the dataset provided [here](https://snap.stanford.edu/data/wiki-topcats.html). For the purpose of our exploration, we do not consider the entire dataset. Instead, we focus on the articles belonging to a subset of categories. \n",
    "\n",
    "\n",
    "1.  Download the reduced version of the graph [Wikicat hyperlink graph](https://drive.google.com/file/d/1QVt0aMOFvLjOEm5eKeCxBQUwIU30_NIh/view?usp=sharing). Every row indicates an edge. In particular, the two elements are the source and the target, respectively.\n",
    "2.  From [this](https://snap.stanford.edu/data/wiki-topcats.html) page download:\n",
    "\t-  `wiki-topcats-categories.txt.gz`: list of pages per category\n",
    "\t-  `wiki-topcats-page-names.txt.gz`: page names\n",
    "\n",
    "\n",
    "Note that in the reduced version of the network we removed the categories whose number of articles in less than 5000 and more than 30000.\n",
    "\n",
    "## General notes\n",
    "\n",
    "1. You will notice that one article might belong to a single category or multiple ones. In the case of multiple appearance, you break the ties uniformly at random. Please, do it before solving any task in the homework.\n",
    "2. We assume that all edges in the graphs we will consider have weight equal to 1.\n",
    "2. __All the algorithms__, unless specified, must be implement from scratch.\n",
    "3. The algorithms should handle exceptions, e.g. what if there is no path between two nodes?\n",
    "4. Differently from other homeworks, we will execute your functions.\n"
   ]
  },
  {
   "cell_type": "markdown",
   "metadata": {},
   "source": [
    "## Approach\n",
    "In this phase, we break the ties uniformly at random for the categories of each link. That is, given a link, we want just one single category containing it. In order to do that, we iterate on the lines of the `wiki-topcats-categories.txt` file, where each category is mapped to the link it contains. We notice that this kind of mapping is not unique, meaning that multiple categories can contain the same link. Iterating on this file, we create a dictionary (`link_cat_dict`), which maps each link to the categories in which it appears, and its exact opposite, the one that stores the map between each category and the links it contains (`cat_link_dict`).\n",
    "\n",
    "At this point, we just extract u.a.r. one single category for each link (`unique_link_cat_dict`), and we store also the opposite direction dictionary (`unique_cat_link_dict`). Once we're done, we create a new file (`wiki-topcats-categories-processed.txt`), which resembles the first one but for which each link is contained in just one category. And we're done!\n",
    "\n",
    "## Observations\n",
    "### Observation 1\n",
    "Since there is some sort of randomness during the choice of the category, we give the possibility to use the pre-created preprocessed file. If one wants to run it from scratch and wants to create a new preprocessed file (containing the single category - link mapping), he just has to remove the pre existing processed file from the data directory.\n",
    "\n",
    "### Observation 2\n",
    "It's important to notice that, as it has been pointed out in the given notes, categories with an inappropriate size (with less than 5000 or more than 30000 nodes) have not been included in the `wikigraph_reduced.csv` file. For this particular reason, we thought that the best thing to do was to actually do the same when selecting the category for the links we're considering. Nevertheless, it can happen that some of this categories will retain a smaller amount of nodes (i.e., less than 5000), since some of the categories could overlap.\n",
    "\n",
    "Anyway, once the preprocessing steps are done, we end up with a set of 21 categories."
   ]
  },
  {
   "cell_type": "code",
   "execution_count": 3,
   "metadata": {
    "execution": {
     "iopub.execute_input": "2021-01-14T14:53:50.835132Z",
     "iopub.status.busy": "2021-01-14T14:53:50.834611Z",
     "iopub.status.idle": "2021-01-14T14:53:51.013983Z",
     "shell.execute_reply": "2021-01-14T14:53:51.013413Z",
     "shell.execute_reply.started": "2021-01-14T14:53:50.835065Z"
    }
   },
   "outputs": [],
   "source": [
    "preprocessed_path = 'data/wiki-topcats-categories-processed.txt'\n",
    "\n",
    "if os.path.isfile(preprocessed_path):\n",
    "    # If the preprocessed file already exist, read from it the dictionaries\n",
    "    unique_link_cat_dict = ut.read_link_cat()\n",
    "    unique_cat_link_dict = ut.read_cat_link()\n",
    "else:\n",
    "    # Otherwise, create them:\n",
    "    # Dictionary containing links as keys and categories (multiple) and inverse\n",
    "    link_cat_dict = ut.link_cat()\n",
    "    cat_link_dict = ut.cat_link()\n",
    "    # Dictionary containing links as keys and categories (unique-random) as values\n",
    "    unique_link_cat_dict = ut.unique_link_cat(link_cat_dict, cat_link_dict)\n",
    "\n",
    "    # Dictionary containing categories as keys and links as values\n",
    "    unique_cat_link_dict = ut.unique_cat_link(unique_link_cat_dict)\n",
    "\n",
    "    # Save preprocessed file for future use\n",
    "    ut.write_category_processed(unique_cat_link_dict)"
   ]
  },
  {
   "cell_type": "markdown",
   "metadata": {},
   "source": [
    "# RQ1\n",
    "## Task\n",
    "Build the graph G=(V, E), where *V* is the set of articles and *E* the hyperlinks among them. Then, provide its basic information:\n",
    " \n",
    "- Is the graph directed?\n",
    "- How many articles are we considering?\n",
    "- How many hyperlinks between pages exist?\n",
    "- Compute the average number of links in an arbitrary page. What is the graph [density](https://en.wikipedia.org/wiki/Dense_graph)? Do you believe that the graph is dense or sparse? Is the graph dense?\n",
    "- Visualize the nodes' degree distribution"
   ]
  },
  {
   "cell_type": "markdown",
   "metadata": {},
   "source": [
    "## Solution\n",
    "### Creation of the graph\n",
    "Let's first build the graph, by initializating it and then by manually adding each of the edge from the csv file to it. We decided to create our graph data structure from scratch, but we obviously took inspiration from the networkx implementation. Our graph is basically a dictionary, for which the keys are the nodes and the values are the out-neighbours of each edge. The function `add_edge` adds a new key to the dictionary if that doesn't exist, otherwise adds the input edge to the already existing key. The graph edges will look something like this:\n",
    "\n",
    "```python\n",
    "{\n",
    "    1: {3, 4, 5},\n",
    "    2: {3, 6},\n",
    "    3: {1, 4, 5},\n",
    "    ...\n",
    "}\n",
    "```\n",
    "More details are obviously given in the code.\n",
    "\n",
    "To add the edge, we just have to iterate on the `wikigraph_reduced.csv`, for which each line represent src $\\to$ dst edge."
   ]
  },
  {
   "cell_type": "code",
   "execution_count": 4,
   "metadata": {
    "execution": {
     "iopub.execute_input": "2021-01-14T14:53:51.998691Z",
     "iopub.status.busy": "2021-01-14T14:53:51.998030Z",
     "iopub.status.idle": "2021-01-14T14:53:53.487328Z",
     "shell.execute_reply": "2021-01-14T14:53:53.486758Z",
     "shell.execute_reply.started": "2021-01-14T14:53:51.998611Z"
    }
   },
   "outputs": [],
   "source": [
    "path = 'data/wikigraph_reduced.csv'\n",
    "\n",
    "graph = Graph()\n",
    "\n",
    "with open(path) as f:\n",
    "    for i, line in enumerate(f):\n",
    "        if i == 0:\n",
    "            continue\n",
    "        line = line.strip().split()\n",
    "        line = [int(el) for el in line]\n",
    "        _, src, dst = line\n",
    "        graph.add_edge(src, dst)"
   ]
  },
  {
   "cell_type": "markdown",
   "metadata": {},
   "source": [
    "### Graph info\n",
    "We implemented some basic functions for our graph. First of all, we can retrieve the number of nodes and number of edges by just calling their respective function (`number_of_nodes()` and `number_of_edges()`). Then, to check if the graph is directed we went through the edges of the graph. For each pair (src, dst), we search for an inverted edge, in the form (dst, src). If it exists one edge that isn't invertible, then we can counclude that the graph is directed; otherwise, we can assume that it is not directed (`is_directed()` function).\n",
    "\n",
    "To compute the graph density, we used the following formula:\n",
    "\\begin{equation*}\n",
    "D = \\begin{cases}\n",
    "\\frac{2|E|}{|V|(|V| - 1)}  &\\text{if the graph is undirected}\\\\\n",
    "\\frac{|E|}{|V|(|V| - 1)} &\\text{if the graph is directed}\n",
    "\\end{cases}\n",
    "\\end{equation*}\n",
    "where $|E|$ and $|V|$ respectively represent the number of edges and of nodes of the graph.\n",
    "\n",
    "#### Observation about sparsity\n",
    "The density of a graph is a value between 0 and 1. In our case, the density we obtain from our graph is much closer to zero, meaning we can safely assume that the graph is sparse. In fact, we can also observe that there is actually a really small number of hyperlinks for each node."
   ]
  },
  {
   "cell_type": "code",
   "execution_count": 4,
   "metadata": {
    "execution": {
     "iopub.execute_input": "2021-01-14T11:24:08.564513Z",
     "iopub.status.busy": "2021-01-14T11:24:08.564370Z",
     "iopub.status.idle": "2021-01-14T11:24:08.568702Z",
     "shell.execute_reply": "2021-01-14T11:24:08.568212Z",
     "shell.execute_reply.started": "2021-01-14T11:24:08.564496Z"
    }
   },
   "outputs": [
    {
     "name": "stdout",
     "output_type": "stream",
     "text": [
      "The graph is directed.\n",
      "Number of articles: 98343\n",
      "Number of hyperlinks: 483094\n",
      "Average number of hyperlinks: 4.9\n",
      "Graph density: 0.0000499516\n"
     ]
    }
   ],
   "source": [
    "n_nodes = graph.number_of_nodes()\n",
    "n_edges = graph.number_of_edges()\n",
    "\n",
    "if graph.is_directed():\n",
    "    print('The graph is directed.')\n",
    "else:\n",
    "    print('The graph is not directed.')\n",
    "\n",
    "# Number of articles corresponds to number of nodes src that have an edge src -> dst\n",
    "print('Number of articles: {}'.format(n_nodes))\n",
    "# Number of hyperlinks corresponds to number of edges\n",
    "print('Number of hyperlinks: {}'.format(n_edges))\n",
    "\n",
    "print('Average number of hyperlinks: {:.1f}'.format(n_edges / n_nodes))\n",
    "print('Graph density: {:.10f}'.format(graph.density()))"
   ]
  },
  {
   "cell_type": "markdown",
   "metadata": {},
   "source": [
    "### Degree distribution\n",
    "For the degree distribution, we decided to use a logarithmic scale plot, since it's just much more convenient and easier to understand what's going on.\n",
    "\n",
    "We can see that most of the nodes have a really low degree, while the vast majority of them retain a low degree. This enforces our affermation on the sparsity of the graph.\n",
    "\n",
    "**Notice** that our graph data structure stores both the in-degree and the out-degree. For this particular exercise, we used the total degree for the plot."
   ]
  },
  {
   "cell_type": "code",
   "execution_count": 5,
   "metadata": {
    "execution": {
     "iopub.execute_input": "2021-01-14T11:24:10.631501Z",
     "iopub.status.busy": "2021-01-14T11:24:10.631342Z",
     "iopub.status.idle": "2021-01-14T11:24:11.349527Z",
     "shell.execute_reply": "2021-01-14T11:24:11.348901Z",
     "shell.execute_reply.started": "2021-01-14T11:24:10.631483Z"
    }
   },
   "outputs": [
    {
     "data": {
      "image/png": "[encoded data removed]",
      "text/plain": [
       "<Figure size 1008x432 with 1 Axes>"
      ]
     },
     "metadata": {
      "needs_background": "light"
     },
     "output_type": "display_data"
    }
   ],
   "source": [
    "graph.degree_distribution_plot()"
   ]
  },
  {
   "cell_type": "markdown",
   "metadata": {},
   "source": [
    "# RQ2\n",
    "## Task\n",
    "Define a function that takes in input:\n",
    "- A page _v_\n",
    "- A number of clicks _d_\n",
    "\n",
    "and returns the set of all pages that a user can reach within _d_ clicks. "
   ]
  },
  {
   "cell_type": "markdown",
   "metadata": {},
   "source": [
    "## Solution\n",
    "Reading the code for this function (`pages_within_clicks`), the solution we proposed should be pretty straightforward. Basically, we search on the out-neighbours of a given node and store them. Once we've finished this search (which would represent the first iteration/click), we search on the out-neighbours on each and every node we've found from the first iteration, and so on so forth, we continue for the number of clicks given in input.\n",
    "\n",
    "Obviously, increasing the number of clicks, dramatically increases the number of reachable nodes. This value increases until there is a plateu, which happens to exist since, at some point, because we encounter a graph connected component. For the example below, we see that this happens once we hit 15 clicks."
   ]
  },
  {
   "cell_type": "code",
   "execution_count": 7,
   "metadata": {
    "execution": {
     "iopub.execute_input": "2021-01-13T21:58:51.282340Z",
     "iopub.status.busy": "2021-01-13T21:58:51.282150Z",
     "iopub.status.idle": "2021-01-13T21:58:51.443778Z",
     "shell.execute_reply": "2021-01-13T21:58:51.443262Z",
     "shell.execute_reply.started": "2021-01-13T21:58:51.282323Z"
    }
   },
   "outputs": [
    {
     "name": "stdout",
     "output_type": "stream",
     "text": [
      "Nodes reachable in 2 clicks starting from the node 786432:\n",
      "{786432, 786433, 999877, 786381, 786382, 786383, 786384, 786385, 786386, 786387, 1622420, 786388, 787539, 787290, 783579, 787486, 787552, 1622647, 1622313, 785517, 787374, 787822, 787377, 1622321, 786295, 786424, 785340, 1000831}\n",
      "\n",
      "      Starting from node 786432       \n",
      "--------------------------------------\n",
      "Reachable nodes in 1 clicks     | 3                              \n",
      "Reachable nodes in 2 clicks     | 28                             \n",
      "Reachable nodes in 3 clicks     | 178                            \n",
      "Reachable nodes in 4 clicks     | 439                            \n",
      "Reachable nodes in 5 clicks     | 1085                           \n",
      "Reachable nodes in 6 clicks     | 2235                           \n",
      "Reachable nodes in 7 clicks     | 3885                           \n",
      "Reachable nodes in 8 clicks     | 5497                           \n",
      "Reachable nodes in 9 clicks     | 6342                           \n",
      "Reachable nodes in 10 clicks    | 6549                           \n",
      "Reachable nodes in 11 clicks    | 6581                           \n",
      "Reachable nodes in 12 clicks    | 6586                           \n",
      "Reachable nodes in 13 clicks    | 6593                           \n",
      "Reachable nodes in 14 clicks    | 6605                           \n",
      "Reachable nodes in 15 clicks    | 6607                           \n",
      "Reachable nodes in 16 clicks    | 6607                           \n",
      "Reachable nodes in 17 clicks    | 6607                           \n",
      "Reachable nodes in 18 clicks    | 6607                           \n",
      "Reachable nodes in 19 clicks    | 6607                           \n",
      "Reachable nodes in 20 clicks    | 6607                           \n"
     ]
    }
   ],
   "source": [
    "starting_node = 786432\n",
    "n_clicks = 2\n",
    "\n",
    "print('Nodes reachable in {} clicks starting from the node {}:'.format(n_clicks, starting_node))\n",
    "print(graph.pages_within_clicks(starting_node, n_clicks))\n",
    "\n",
    "print('')\n",
    "\n",
    "\n",
    "reach_table = []\n",
    "for n_clicks in range(1, 21):\n",
    "    reachable = graph.pages_within_clicks(starting_node, n_clicks)\n",
    "    reach_table.append(('Reachable nodes in {} clicks'.format(n_clicks), len(reachable)))\n",
    "\n",
    "title = 'Starting from node {}'.format(starting_node)\n",
    "ut.generate_table(reach_table, title=title, reverse=False)"
   ]
  },
  {
   "cell_type": "markdown",
   "metadata": {},
   "source": [
    "# RQ3\n",
    "## Task\n",
    "Define a function that takes in input:\n",
    "\n",
    "- A category _C_\n",
    "- A set of pages in _C_, _p = {p<sub>1</sub>, ..., p<sub>n</sub>}_\n",
    "\n",
    "and returns the minimum number of clicks required to reach all pages in _p_, starting from the page _v_, corresponding to the most central article, according to the _in-degree_ centrality, in _C_.\n",
    "\n",
    "Consider that:\n",
    "- The algorithm needs to handle the case that the graph is not connected, thus not all the pages in _p_ are reachable from _v_. In such scenario, it is enough to let the program give in output the string \"Not possible\".\n",
    "- Since we are dealing with graph exploration, you can pass more than once on the same page _p<sub>i</sub>_.\n",
    "- Since the problem’s complexity is high, consider to provide just an approximation/heuristic solution for the problem. \n",
    "- You can use whatever metrics of centrality."
   ]
  },
  {
   "cell_type": "markdown",
   "metadata": {},
   "source": [
    "## Solution\n",
    "Before actually going into the solution itself, it is important to make some remarks. First of all, we decided to use the in-degree for the centrality metric. Then, we didn't feel like an heuristic solution was needed: working with a very sparse graph, we noticed that there weren't really great problems exploring a complete category. That being said, to the algorithm we go.\n",
    "\n",
    "The solution we proposes is encapsulated in two main functions: `min_clicks`, which actually gives the answer to the question, and `shortest_path`, which, in this particular case, serves as an helper function. In fact, to compute the minimum number of clicks needed to reach all pages in a set $p$, starting from a single node in another category (the most central one), what we need to do is the following:\n",
    "\n",
    "- Compute the most central node in the given category;\n",
    "- Compute the shortest path between this node and all the nodes in the given set;\n",
    "- Return the maximum lenght of these distances.\n",
    "\n",
    "There are a few details it's worth to display:\n",
    "\n",
    "1. We based our computation of the shortest on the BFS algorithm;\n",
    "2. There are some basic cases in which we automatically give the response \"Not possible\", e.g. when the input nodes are not contained in the graph itself, when the input nodes in the set are not into the input category, and finally when there is no actual path between even one single pair (central_node, n), for n in the given category."
   ]
  },
  {
   "cell_type": "code",
   "execution_count": 8,
   "metadata": {
    "execution": {
     "iopub.execute_input": "2021-01-13T21:58:55.969436Z",
     "iopub.status.busy": "2021-01-13T21:58:55.969252Z",
     "iopub.status.idle": "2021-01-13T21:58:56.199568Z",
     "shell.execute_reply": "2021-01-13T21:58:56.199069Z",
     "shell.execute_reply.started": "2021-01-13T21:58:55.969408Z"
    }
   },
   "outputs": [
    {
     "name": "stdout",
     "output_type": "stream",
     "text": [
      "Category: English-language_films\n",
      "Most central article: 1063315\n",
      "Pages: {556939, 1041649, 1266258, 601747, 930430}\n",
      "Minimum number of clicks: 5\n"
     ]
    }
   ],
   "source": [
    "# Example\n",
    "\n",
    "category = 'English-language_films'\n",
    "most_central_node = graph.most_central_article(category)\n",
    "\n",
    "pages = {556939, 601747, 930430, 1041649, 1266258}\n",
    "\n",
    "min_clicks = graph.min_clicks(category, pages)\n",
    "\n",
    "\n",
    "print(\n",
    "    f'Category: {category}\\n'\n",
    "    f'Most central article: {most_central_node}\\n'\n",
    "    f'Pages: {pages}\\n'\n",
    "    f'Minimum number of clicks: {min_clicks}'\n",
    ")"
   ]
  },
  {
   "cell_type": "markdown",
   "metadata": {},
   "source": [
    "# RQ4\n",
    "## Task\n",
    "Given in input two categories: C<sub>1</sub> and C<sub>2</sub>, we get the subgraph induced by all the articles in the two categories. \n",
    "\n",
    "- Let _v_ and _u_ two arbitrary pages in the subgraph. What is the minimum set of hyperlinks one can remove to disconnect _u_ and _v_?"
   ]
  },
  {
   "cell_type": "markdown",
   "metadata": {},
   "source": [
    "## Solution\n",
    "### Example\n",
    "Before we move to the actual solution of the research question, so working with the subgraph induced by two categories, let's visualize its rationale with an easy example. This can be useful also because it's not that easy to find a meaningful example extracting two categories-subgraphs.\n",
    "\n",
    "Let `g` be a directed graph, defined by its edges:\n",
    "\n",
    "(1 $\\to$ 2), \n",
    "(1 $\\to$ 3), \n",
    "(1 $\\to$ 6), \n",
    "(1 $\\to$ 7), \n",
    "(2 $\\to$ 4), \n",
    "(3 $\\to$ 4), \n",
    "(6 $\\to$ 8), \n",
    "(7 $\\to$ 8), \n",
    "(4 $\\to$ 5), \n",
    "(8 $\\to$ 5), \n",
    "(1 $\\to$ 5)\n",
    "\n",
    "Let's use `networkxx` to visualize this graph."
   ]
  },
  {
   "cell_type": "code",
   "execution_count": 9,
   "metadata": {
    "execution": {
     "iopub.execute_input": "2021-01-13T21:58:59.284153Z",
     "iopub.status.busy": "2021-01-13T21:58:59.283971Z",
     "iopub.status.idle": "2021-01-13T21:58:59.428898Z",
     "shell.execute_reply": "2021-01-13T21:58:59.428342Z",
     "shell.execute_reply.started": "2021-01-13T21:58:59.284124Z"
    }
   },
   "outputs": [
    {
     "data": {
      "image/png": "[encoded data removed]",
      "text/plain": [
       "<Figure size 720x360 with 1 Axes>"
      ]
     },
     "metadata": {},
     "output_type": "display_data"
    }
   ],
   "source": [
    "ut.graph_example()"
   ]
  },
  {
   "cell_type": "markdown",
   "metadata": {},
   "source": [
    "Let's say we want to disconnect nodes **1** and **5**. It should be pretty straightforward that the minimum number of edges we need to remove from the graph in order to disconnect the two nodes are:\n",
    "\n",
    "(1 $\\to$ 5), (4 $\\to$ 5), (8 $\\to$ 5).\n",
    "\n",
    "These can be simply obtained by looking at the disjoint paths between 1 and 5, so to actually know the number of edges we need to remove from the graph to disconnect two nodes we just need to see how many disjoint paths connect them.\n",
    "\n",
    "Now we can create the graph, add the edges and see if this works! The solution for this kind of problem is contained in the `DisjointPaths`, which is a modified version of the DFS, exploring a graph in the exact opposite way a BFS would go. Inside this class there are two functions: `dfs`, which actually goes in depth in the graph searching for disjoint paths, traversing in depth from a source node to a destination one, and marking the followed path (marking the edges). There is then the `search` function, which is used to retrieve **all** the disjoint paths, by starting over from the source node everytime it succedes in finding a path."
   ]
  },
  {
   "cell_type": "code",
   "execution_count": 92,
   "metadata": {
    "execution": {
     "iopub.execute_input": "2021-01-14T19:02:08.641789Z",
     "iopub.status.busy": "2021-01-14T19:02:08.641535Z",
     "iopub.status.idle": "2021-01-14T19:02:08.730913Z",
     "shell.execute_reply": "2021-01-14T19:02:08.730328Z",
     "shell.execute_reply.started": "2021-01-14T19:02:08.641759Z"
    }
   },
   "outputs": [
    {
     "name": "stdout",
     "output_type": "stream",
     "text": [
      "Disjoint paths between 1 and 5: [[1, 2, 4, 5], [1, 5], [1, 6, 8, 5]].\n",
      "The minimum set of hyperlinks to remove from the graph to disconnect node 1 and 5 is 3.\n"
     ]
    }
   ],
   "source": [
    "g = Graph()\n",
    "\n",
    "edges = [\n",
    "    (1, 2),\n",
    "    (1, 3),\n",
    "    (1, 6),\n",
    "    (1, 7),\n",
    "    (2, 4),\n",
    "    (3, 4),\n",
    "    (6, 8),\n",
    "    (7, 8),\n",
    "    (4, 5),\n",
    "    (8, 5),\n",
    "    (1, 5),\n",
    "]\n",
    "\n",
    "g.add_edges_from(edges)\n",
    "\n",
    "src = 1\n",
    "dst = 5\n",
    "d = DisjointPaths(g)\n",
    "d.search(src, dst)\n",
    "disjoint_paths = d.paths[(src, dst)]\n",
    "print(f'Disjoint paths between {src} and {dst}: {disjoint_paths}.')\n",
    "\n",
    "print('The minimum set of hyperlinks to remove from the graph to disconnect node 1 and 5 is {}.'.format(min_edge_cut(g, 1, 5)))"
   ]
  },
  {
   "cell_type": "markdown",
   "metadata": {},
   "source": [
    "### Application on the subgraph\n",
    "Let's select now two populated categories. The function `categories_size` should help us for this task, since it is going to print the number of nodes contained in the graph belonging to each category. We are then going to select two categories that, somehow, seem to be related."
   ]
  },
  {
   "cell_type": "code",
   "execution_count": 11,
   "metadata": {
    "execution": {
     "iopub.execute_input": "2021-01-13T21:59:08.986517Z",
     "iopub.status.busy": "2021-01-13T21:59:08.986164Z",
     "iopub.status.idle": "2021-01-13T21:59:09.027760Z",
     "shell.execute_reply": "2021-01-13T21:59:09.027219Z",
     "shell.execute_reply.started": "2021-01-13T21:59:08.986477Z"
    }
   },
   "outputs": [
    {
     "name": "stdout",
     "output_type": "stream",
     "text": [
      "                               Categories Sizes                               \n",
      "------------------------------------------------------------------------------\n",
      "English-language_films                                                 | 13209                                                                 \n",
      "American_film_actors                                                   | 9063                                                                  \n",
      "Main_Belt_asteroids                                                    | 8643                                                                  \n",
      "Rivers_of_Romania                                                      | 7662                                                                  \n",
      "American_films                                                         | 7639                                                                  \n",
      "American_television_actors                                             | 6520                                                                  \n",
      "Members_of_the_United_Kingdom_Parliament_for_English_constituencies    | 6430                                                                  \n",
      "Black-and-white_films                                                  | 5217                                                                  \n",
      "English_footballers                                                    | 3672                                                                  \n",
      "The_Football_League_players                                            | 3625                                                                  \n",
      "Major_League_Baseball_pitchers                                         | 3307                                                                  \n",
      "Harvard_University_alumni                                              | 2966                                                                  \n",
      "Association_football_midfielders                                       | 2748                                                                  \n",
      "Indian_films                                                           | 2746                                                                  \n",
      "Debut_albums                                                           | 2553                                                                  \n",
      "Place_of_birth_missing_(living_people)                                 | 2526                                                                  \n",
      "Association_football_forwards                                          | 2504                                                                  \n",
      "Asteroids_named_for_people                                             | 2355                                                                  \n",
      "Association_football_defenders                                         | 2107                                                                  \n",
      "Year_of_birth_missing                                                  | 1441                                                                  \n",
      "Year_of_death_missing                                                  | 1410                                                                  \n"
     ]
    }
   ],
   "source": [
    "categories_sizes = ut.categories_size(graph)\n",
    "\n",
    "ut.generate_table(categories_sizes, title='Categories Sizes', amount='all')"
   ]
  },
  {
   "cell_type": "markdown",
   "metadata": {},
   "source": [
    "The subgraph induced by category 1 and category 2 is going to be made as follows: first of all, we filter out all the nodes that don't belong to neither categories. Then, we select the edges that are in the form (src, dst), where both `src` and `dst` are either in category 1 or category 2."
   ]
  },
  {
   "cell_type": "code",
   "execution_count": 94,
   "metadata": {
    "execution": {
     "iopub.execute_input": "2021-01-14T19:02:56.750664Z",
     "iopub.status.busy": "2021-01-14T19:02:56.750371Z",
     "iopub.status.idle": "2021-01-14T19:02:56.878875Z",
     "shell.execute_reply": "2021-01-14T19:02:56.878291Z",
     "shell.execute_reply.started": "2021-01-14T19:02:56.750629Z"
    }
   },
   "outputs": [],
   "source": [
    "category1 = 'The_Football_League_players'\n",
    "category2 = 'English_footballers'\n",
    "\n",
    "subgraph = induced_subgraph(graph, category1, category2)"
   ]
  },
  {
   "cell_type": "code",
   "execution_count": 110,
   "metadata": {
    "execution": {
     "iopub.execute_input": "2021-01-14T19:05:31.502505Z",
     "iopub.status.busy": "2021-01-14T19:05:31.502203Z",
     "iopub.status.idle": "2021-01-14T19:05:34.075171Z",
     "shell.execute_reply": "2021-01-14T19:05:34.074574Z",
     "shell.execute_reply.started": "2021-01-14T19:05:31.502469Z"
    }
   },
   "outputs": [
    {
     "name": "stdout",
     "output_type": "stream",
     "text": [
      "The minimum set of hyperlinks to remove from the subgraph to disconnect node 81928 and 82068 is 4.\n"
     ]
    }
   ],
   "source": [
    "src = 81920\n",
    "dst = 83460\n",
    "\n",
    "print('The minimum set of hyperlinks to remove from the subgraph to disconnect node 81928 and 82068 is {}.'.format(min_edge_cut(subgraph, 81920, 83460)))"
   ]
  },
  {
   "cell_type": "markdown",
   "metadata": {},
   "source": [
    "# RQ5\n",
    "## Task\n",
    "Write a function that, given an arbitrary category C<sub>0</sub> as input, returns the list of remaning categories sorted by their distance from C<sub>0</sub>. In particular, the distance between two categories is defined as \n",
    "\n",
    "distance(C<sub>0</sub>, C<sub>i</sub>) = median(ShortestPath(C<sub>0</sub>, C<sub>i</sub>))\n",
    "\n",
    "where ShortestPath(C<sub>0</sub>, C<sub>i</sub>) is the set of shortest paths from each pair of nodes in the two categories."
   ]
  },
  {
   "cell_type": "markdown",
   "metadata": {},
   "source": [
    "## Solution\n",
    "The functions used to compute the distance between one category and all the others are `get_distances`, in the `Graph` class, and `ordered_distances`. The first method is a modified version of the BFS algorithm, used to explore the graph starting from a root node. Along with the nodes reachable from the root, this function also retrieves the distances between the root and all the nodes it encounters. This speeds up the computation a lot, since, in order to compute the distance between one selected category and all the others, it is sufficient to iterate on the nodes of the selected category and apply this modified BFS method.\n",
    "\n",
    "That's exactly the purpose of the `ordered_distances` function, which iterates on the nodes of the selected category, stores the distances from all the nodes of the category to all the other nodes, and then assigns these distances in a dictionary. More details are given in the docs of the function.\n",
    "\n",
    "To prove the efficiency of the described function, we tried it on a pretty big category: \"American_television_actors\". We can see from the previous table that this category contains 9063 nodes, so... keep tight, because it's going to take some time to run the following operations (about 10 mins)."
   ]
  },
  {
   "cell_type": "code",
   "execution_count": 74,
   "metadata": {
    "execution": {
     "iopub.execute_input": "2021-01-13T17:23:07.733120Z",
     "iopub.status.busy": "2021-01-13T17:23:07.732775Z",
     "iopub.status.idle": "2021-01-13T17:34:16.845538Z",
     "shell.execute_reply": "2021-01-13T17:34:16.845045Z",
     "shell.execute_reply.started": "2021-01-13T17:23:07.733071Z"
    }
   },
   "outputs": [
    {
     "name": "stdout",
     "output_type": "stream",
     "text": [
      "            Category distance from 'American_television_actors'             \n",
      "----------------------------------------------------------------------------\n",
      "American_film_actors                                                   | 5.0                                                                   \n",
      "English-language_films                                                 | 5.0                                                                   \n",
      "American_films                                                         | 5.0                                                                   \n",
      "Place_of_birth_missing_(living_people)                                 | 5.0                                                                   \n",
      "Black-and-white_films                                                  | 5.0                                                                   \n",
      "Debut_albums                                                           | 6.0                                                                   \n",
      "Harvard_University_alumni                                              | 6.0                                                                   \n",
      "Year_of_birth_missing                                                  | 6.0                                                                   \n",
      "Asteroids_named_for_people                                             | 7.0                                                                   \n",
      "Members_of_the_United_Kingdom_Parliament_for_English_constituencies    | 7.0                                                                   \n",
      "Major_League_Baseball_pitchers                                         | 7.0                                                                   \n",
      "Year_of_death_missing                                                  | 7.0                                                                   \n",
      "Main_Belt_asteroids                                                    | 7.0                                                                   \n",
      "Indian_films                                                           | 8.0                                                                   \n",
      "Association_football_defenders                                         | 8.0                                                                   \n",
      "English_footballers                                                    | 8.0                                                                   \n",
      "Association_football_forwards                                          | 8.0                                                                   \n",
      "The_Football_League_players                                            | 8.0                                                                   \n",
      "Association_football_midfielders                                       | 8.0                                                                   \n",
      "Rivers_of_Romania                                                      | 9.0                                                                   \n"
     ]
    }
   ],
   "source": [
    "c1 = 'American_television_actors'\n",
    "\n",
    "ordered_categories = ordered_distances(graph, c1, unique_link_cat_dict)\n",
    "\n",
    "title = \"Category distance from '{}'\".format(c1)\n",
    "ut.generate_table(ordered_categories, title=title, reverse=False)"
   ]
  },
  {
   "cell_type": "markdown",
   "metadata": {},
   "source": [
    "# RQ6\n",
    "## Task\n",
    "Write a function that sorts the categories in the graph according to their PageRank (PR). For this task you need to model the network of categories such that you can apply the PR algorithm."
   ]
  },
  {
   "cell_type": "markdown",
   "metadata": {},
   "source": [
    "## Solution\n",
    "### Category graph\n",
    "Before diving straight into the solution, some details about the approach we've taken is mandatory. First of all, we didn't work on the initial graph itself. In fact, we tought it could be much more convenient to work with another version of it, where each node is replaced by the category where it belongs. In our opinion, this makes much more sense, since we have to give a score to the categories. \n",
    "\n",
    "For example, if our graph is composed by the following edges:\n",
    "\n",
    "(1 $\\to$ 2), \n",
    "(1 $\\to$ 3), \n",
    "(1 $\\to$ 7), \n",
    "(2 $\\to$ 4), \n",
    "(3 $\\to$ 4), \n",
    "(6 $\\to$ 8), \n",
    "(7 $\\to$ 8).\n",
    "\n",
    "and we have three categories:\n",
    "```python\n",
    "category_1 = {2, 3}\n",
    "category_2 = {1, 4, 6, 8}\n",
    "category_3 = {5, 7}\n",
    "```\n",
    "the new graph would be: \n",
    "\n",
    "(category_2 $\\to$ category_1), \n",
    "(category_2 $\\to$ category_3), \n",
    "(category_1 $\\to$ category_2), \n",
    "(category_2 $\\to$ category_2), \n",
    "(category_3 $\\to$ category_2).\n",
    "\n",
    "Obviously, some of the edges get removed this way, since there could be two edges that, once translated, would be the exact same thing. We think this is an ok option, nevertheless there is still some room to improve. For example, one could increase the weight of an edge if that particular edge gets repeated. We didn't have time neither to think or to implement this option, but if we had more time we probably would have.\n",
    "\n",
    "### PageRank\n",
    "For the implementation of the PageRank, we mainly followed 3 sources:\n",
    "- The original paper from Sergey Brin and Lawrence Page, where they present Google and PageRank: [The Anatomy of a Large-Scale Hypertextual Web Search Engine](http://infolab.stanford.edu/pub/papers/google.pdf);\n",
    "- The [PageRank Wikipedia page](https://en.wikipedia.org/wiki/PageRank), where the algorithm is well described and some toughts on the choice of the damping factor/implementation are presented;\n",
    "- The [source code](https://networkx.org/documentation/networkx-1.10/_modules/networkx/algorithms/link_analysis/pagerank_alg.html#pagerank) for PageRank by NetworkX, from which we took the idea for our implementation, studied the details and tried to come up with a similar/efficient solution that worked on the graph data structure we created from scratch. We obviously made some changes, both caused by the different data structure and both because of how we tought was the best/clear way to implement the algorithm, but we compared the results and saw that they produces identical results."
   ]
  },
  {
   "cell_type": "code",
   "execution_count": 15,
   "metadata": {
    "execution": {
     "iopub.execute_input": "2021-01-13T21:59:24.118425Z",
     "iopub.status.busy": "2021-01-13T21:59:24.118272Z",
     "iopub.status.idle": "2021-01-13T21:59:24.452478Z",
     "shell.execute_reply": "2021-01-13T21:59:24.452014Z",
     "shell.execute_reply.started": "2021-01-13T21:59:24.118409Z"
    }
   },
   "outputs": [
    {
     "name": "stdout",
     "output_type": "stream",
     "text": [
      "                                      Category PageRank                                      \n",
      "---------------------------------------------------------------------------------------------\n",
      "English-language_films                                                 | 0.07066980197129523                                                   \n",
      "Year_of_death_missing                                                  | 0.05443541978298677                                                   \n",
      "Place_of_birth_missing_(living_people)                                 | 0.05443541978298677                                                   \n",
      "American_television_actors                                             | 0.05443541978298677                                                   \n",
      "American_film_actors                                                   | 0.05443541978298677                                                   \n",
      "Harvard_University_alumni                                              | 0.05220467802595087                                                   \n",
      "Year_of_birth_missing                                                  | 0.05208672415428581                                                   \n",
      "American_films                                                         | 0.05195116574268788                                                   \n",
      "Association_football_midfielders                                       | 0.04973749503114412                                                   \n",
      "Debut_albums                                                           | 0.049637677798678614                                                  \n",
      "Members_of_the_United_Kingdom_Parliament_for_English_constituencies    | 0.04918943234367652                                                   \n",
      "The_Football_League_players                                            | 0.04759461000181429                                                   \n",
      "Association_football_forwards                                          | 0.04723961207640648                                                   \n",
      "Association_football_defenders                                         | 0.04548779030282662                                                   \n",
      "Black-and-white_films                                                  | 0.04460107758863202                                                   \n",
      "Rivers_of_Romania                                                      | 0.04404035817022224                                                   \n",
      "English_footballers                                                    | 0.04318153373647617                                                   \n",
      "Indian_films                                                           | 0.04017030642717242                                                   \n",
      "Major_League_Baseball_pitchers                                         | 0.03770795941769614                                                   \n",
      "Main_Belt_asteroids                                                    | 0.03337677156474871                                                   \n",
      "Asteroids_named_for_people                                             | 0.023381326514339003                                                  \n"
     ]
    }
   ],
   "source": [
    "# Create the graph composed by the categories nodes starting from the main graph\n",
    "cat_graph = create_category_graph(graph, unique_link_cat_dict)\n",
    "\n",
    "# Compute and print the pagerank\n",
    "PR = pagerank(cat_graph)\n",
    "PR_table = dict_to_table(graph, PR)\n",
    "ut.generate_table(PR_table, title='Category PageRank')"
   ]
  }
 ],
 "metadata": {
  "kernelspec": {
   "display_name": "Python 3",
   "language": "python",
   "name": "python3"
  },
  "language_info": {
   "codemirror_mode": {
    "name": "ipython",
    "version": 3
   },
   "file_extension": ".py",
   "mimetype": "text/x-python",
   "name": "python",
   "nbconvert_exporter": "python",
   "pygments_lexer": "ipython3",
   "version": "3.7.6"
  }
 },
 "nbformat": 4,
 "nbformat_minor": 4
}
