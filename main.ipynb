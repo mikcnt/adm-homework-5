{
 "cells": [
  {
   "cell_type": "code",
   "execution_count": 1,
   "metadata": {
    "execution": {
     "iopub.execute_input": "2020-12-29T23:06:18.013931Z",
     "iopub.status.busy": "2020-12-29T23:06:18.013404Z",
     "iopub.status.idle": "2020-12-29T23:06:18.029094Z",
     "shell.execute_reply": "2020-12-29T23:06:18.028339Z",
     "shell.execute_reply.started": "2020-12-29T23:06:18.013784Z"
    }
   },
   "outputs": [],
   "source": [
    "%load_ext autoreload\n",
    "%autoreload 2"
   ]
  },
  {
   "cell_type": "code",
   "execution_count": 2,
   "metadata": {
    "execution": {
     "iopub.execute_input": "2020-12-29T23:06:18.079521Z",
     "iopub.status.busy": "2020-12-29T23:06:18.079363Z",
     "iopub.status.idle": "2020-12-29T23:06:18.284804Z",
     "shell.execute_reply": "2020-12-29T23:06:18.284313Z",
     "shell.execute_reply.started": "2020-12-29T23:06:18.079503Z"
    }
   },
   "outputs": [],
   "source": [
    "import numpy as np\n",
    "import functions.utils as ut\n",
    "from functions.graph import Graph"
   ]
  },
  {
   "cell_type": "markdown",
   "metadata": {},
   "source": [
    "# 0. Preprocess"
   ]
  },
  {
   "cell_type": "code",
   "execution_count": 32,
   "metadata": {
    "execution": {
     "iopub.execute_input": "2020-12-29T23:25:40.309109Z",
     "iopub.status.busy": "2020-12-29T23:25:40.308941Z",
     "iopub.status.idle": "2020-12-29T23:25:49.200830Z",
     "shell.execute_reply": "2020-12-29T23:25:49.200308Z",
     "shell.execute_reply.started": "2020-12-29T23:25:40.309091Z"
    }
   },
   "outputs": [],
   "source": [
    "link_cat = ut.link_category_dict()\n",
    "cat_link = ut.unique_category(link_cat)"
   ]
  },
  {
   "cell_type": "markdown",
   "metadata": {},
   "source": [
    "# RQ1\n",
    "Let's first build the graph, by initializating it and then by manually adding each of the edges to it."
   ]
  },
  {
   "cell_type": "code",
   "execution_count": 4,
   "metadata": {
    "execution": {
     "iopub.execute_input": "2020-12-28T23:55:30.953828Z",
     "iopub.status.busy": "2020-12-28T23:55:30.953683Z",
     "iopub.status.idle": "2020-12-28T23:55:32.390739Z",
     "shell.execute_reply": "2020-12-28T23:55:32.390174Z",
     "shell.execute_reply.started": "2020-12-28T23:55:30.953808Z"
    }
   },
   "outputs": [],
   "source": [
    "path = 'data/wikigraph_reduced.csv'\n",
    "\n",
    "graph = Graph()\n",
    "\n",
    "with open(path) as f:\n",
    "    for i, line in enumerate(f):\n",
    "        if i == 0:\n",
    "            continue\n",
    "        line = line.strip().split()\n",
    "        line = [int(el) for el in line]\n",
    "        _, src, dst = line\n",
    "        graph.add_edge(src, dst)"
   ]
  },
  {
   "cell_type": "markdown",
   "metadata": {},
   "source": [
    "## Graph info"
   ]
  },
  {
   "cell_type": "code",
   "execution_count": 5,
   "metadata": {
    "execution": {
     "iopub.execute_input": "2020-12-28T23:55:32.391505Z",
     "iopub.status.busy": "2020-12-28T23:55:32.391376Z",
     "iopub.status.idle": "2020-12-28T23:55:32.403436Z",
     "shell.execute_reply": "2020-12-28T23:55:32.402710Z",
     "shell.execute_reply.started": "2020-12-28T23:55:32.391487Z"
    }
   },
   "outputs": [
    {
     "name": "stdout",
     "output_type": "stream",
     "text": [
      "The graph is directed.\n",
      "Number of articles: 90920\n",
      "Number of hyperlinks: 483094\n",
      "Average number of hyperlinks: 5.3\n",
      "Graph density: 0.0000499516\n"
     ]
    }
   ],
   "source": [
    "n_nodes = graph.number_of_nodes()\n",
    "n_nodes_w_edges = graph.nodes_with_edges()\n",
    "n_edges = graph.number_of_edges()\n",
    "\n",
    "if graph.is_directed():\n",
    "    print('The graph is directed.')\n",
    "else:\n",
    "    print('The graph is not directed.')\n",
    "\n",
    "# Number of articles corresponds to number of nodes src that have an edge src -> dst\n",
    "print('Number of articles: {}'.format(n_nodes_w_edges))\n",
    "# Number of hyperlinks corresponds to number of edges\n",
    "print('Number of hyperlinks: {}'.format(n_edges))\n",
    "\n",
    "print('Average number of hyperlinks: {:.1f}'.format(n_edges / n_nodes_w_edges))\n",
    "print('Graph density: {:.10f}'.format(graph.density()))"
   ]
  },
  {
   "cell_type": "code",
   "execution_count": 6,
   "metadata": {
    "execution": {
     "iopub.execute_input": "2020-12-28T23:55:32.404484Z",
     "iopub.status.busy": "2020-12-28T23:55:32.404261Z",
     "iopub.status.idle": "2020-12-28T23:55:33.154268Z",
     "shell.execute_reply": "2020-12-28T23:55:33.153704Z",
     "shell.execute_reply.started": "2020-12-28T23:55:32.404449Z"
    }
   },
   "outputs": [
    {
     "data": {
      "image/png": "[encoded data removed]",
      "text/plain": [
       "<Figure size 1008x432 with 1 Axes>"
      ]
     },
     "metadata": {
      "needs_background": "light"
     },
     "output_type": "display_data"
    }
   ],
   "source": [
    "graph.degree_distribution_plot()"
   ]
  },
  {
   "cell_type": "markdown",
   "metadata": {},
   "source": [
    "# RQ2\n",
    "Implementation of the function that given in input a page $v$ and a number of clicks $d$, returns the set of pages that a user can reach from $v$ within $d$ clicks."
   ]
  },
  {
   "cell_type": "code",
   "execution_count": 50,
   "metadata": {
    "execution": {
     "iopub.execute_input": "2020-12-29T00:18:00.032506Z",
     "iopub.status.busy": "2020-12-29T00:18:00.032318Z",
     "iopub.status.idle": "2020-12-29T00:18:00.043568Z",
     "shell.execute_reply": "2020-12-29T00:18:00.043054Z",
     "shell.execute_reply.started": "2020-12-29T00:18:00.032489Z"
    }
   },
   "outputs": [
    {
     "data": {
      "text/plain": [
       "{783579,\n",
       " 785340,\n",
       " 785517,\n",
       " 786295,\n",
       " 786381,\n",
       " 786382,\n",
       " 786383,\n",
       " 786384,\n",
       " 786385,\n",
       " 786386,\n",
       " 786387,\n",
       " 786388,\n",
       " 786424,\n",
       " 786432,\n",
       " 786433,\n",
       " 787290,\n",
       " 787374,\n",
       " 787377,\n",
       " 787486,\n",
       " 787539,\n",
       " 787552,\n",
       " 787822,\n",
       " 999877,\n",
       " 1000831,\n",
       " 1622313,\n",
       " 1622321,\n",
       " 1622420,\n",
       " 1622647}"
      ]
     },
     "execution_count": 50,
     "metadata": {},
     "output_type": "execute_result"
    }
   ],
   "source": [
    "graph.pages_within_clicks(786432, 2)"
   ]
  }
 ],
 "metadata": {
  "kernelspec": {
   "display_name": "Python 3",
   "language": "python",
   "name": "python3"
  },
  "language_info": {
   "codemirror_mode": {
    "name": "ipython",
    "version": 3
   },
   "file_extension": ".py",
   "mimetype": "text/x-python",
   "name": "python",
   "nbconvert_exporter": "python",
   "pygments_lexer": "ipython3",
   "version": "3.7.6"
  }
 },
 "nbformat": 4,
 "nbformat_minor": 4
}
