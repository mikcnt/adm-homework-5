{
 "cells": [
  {
   "cell_type": "code",
   "execution_count": 6,
   "metadata": {
    "execution": {
     "iopub.execute_input": "2021-01-12T22:57:08.634752Z",
     "iopub.status.busy": "2021-01-12T22:57:08.634476Z",
     "iopub.status.idle": "2021-01-12T22:57:08.651865Z",
     "shell.execute_reply": "2021-01-12T22:57:08.651158Z",
     "shell.execute_reply.started": "2021-01-12T22:57:08.634720Z"
    }
   },
   "outputs": [
    {
     "name": "stdout",
     "output_type": "stream",
     "text": [
      "The autoreload extension is already loaded. To reload it, use:\n",
      "  %reload_ext autoreload\n"
     ]
    }
   ],
   "source": [
    "%load_ext autoreload\n",
    "%autoreload 2"
   ]
  },
  {
   "cell_type": "code",
   "execution_count": 7,
   "metadata": {
    "ExecuteTime": {
     "end_time": "2021-01-09T12:26:04.757442Z",
     "start_time": "2021-01-09T12:26:04.560182Z"
    },
    "execution": {
     "iopub.execute_input": "2021-01-12T22:57:08.720399Z",
     "iopub.status.busy": "2021-01-12T22:57:08.720113Z",
     "iopub.status.idle": "2021-01-12T22:57:08.742011Z",
     "shell.execute_reply": "2021-01-12T22:57:08.741475Z",
     "shell.execute_reply.started": "2021-01-12T22:57:08.720366Z"
    }
   },
   "outputs": [],
   "source": [
    "import numpy as np\n",
    "\n",
    "import functions.utils as ut\n",
    "from functions.graph import *"
   ]
  },
  {
   "cell_type": "markdown",
   "metadata": {},
   "source": [
    "# 0. Preprocess"
   ]
  },
  {
   "cell_type": "code",
   "execution_count": 8,
   "metadata": {
    "execution": {
     "iopub.execute_input": "2021-01-12T22:57:18.643962Z",
     "iopub.status.busy": "2021-01-12T22:57:18.643618Z",
     "iopub.status.idle": "2021-01-12T22:57:24.329080Z",
     "shell.execute_reply": "2021-01-12T22:57:24.328537Z",
     "shell.execute_reply.started": "2021-01-12T22:57:18.643921Z"
    }
   },
   "outputs": [],
   "source": [
    "# Dictionary containing links as keys and categories (multiple) as values\n",
    "link_cat_dict = ut.link_cat()\n",
    "\n",
    "# Dictionary containing links as keys and categories (unique-random) as values\n",
    "unique_link_cat_dict = ut.unique_link_cat(link_cat_dict)\n",
    "\n",
    "# Dictionary containing categories as keys and links as values\n",
    "unique_cat_link_dict = ut.unique_cat_link(unique_link_cat_dict)\n",
    "\n",
    "# Save preprocessed file for future use\n",
    "ut.write_category_processed(unique_cat_link_dict)"
   ]
  },
  {
   "cell_type": "markdown",
   "metadata": {},
   "source": [
    "# RQ1\n",
    "Let's first build the graph, by initializating it and then by manually adding each of the edges to it."
   ]
  },
  {
   "cell_type": "code",
   "execution_count": 9,
   "metadata": {
    "execution": {
     "iopub.execute_input": "2021-01-12T23:00:31.128852Z",
     "iopub.status.busy": "2021-01-12T23:00:31.128660Z",
     "iopub.status.idle": "2021-01-12T23:00:32.533437Z",
     "shell.execute_reply": "2021-01-12T23:00:32.532917Z",
     "shell.execute_reply.started": "2021-01-12T23:00:31.128835Z"
    }
   },
   "outputs": [],
   "source": [
    "path = 'data/wikigraph_reduced.csv'\n",
    "\n",
    "graph = Graph()\n",
    "\n",
    "with open(path) as f:\n",
    "    for i, line in enumerate(f):\n",
    "        if i == 0:\n",
    "            continue\n",
    "        line = line.strip().split()\n",
    "        line = [int(el) for el in line]\n",
    "        _, src, dst = line\n",
    "        graph.add_edge(src, dst)"
   ]
  },
  {
   "cell_type": "markdown",
   "metadata": {},
   "source": [
    "## Graph info"
   ]
  },
  {
   "cell_type": "code",
   "execution_count": 10,
   "metadata": {
    "execution": {
     "iopub.execute_input": "2021-01-12T23:00:35.802945Z",
     "iopub.status.busy": "2021-01-12T23:00:35.802477Z",
     "iopub.status.idle": "2021-01-12T23:00:35.818134Z",
     "shell.execute_reply": "2021-01-12T23:00:35.817701Z",
     "shell.execute_reply.started": "2021-01-12T23:00:35.802887Z"
    }
   },
   "outputs": [
    {
     "name": "stdout",
     "output_type": "stream",
     "text": [
      "The graph is directed.\n",
      "Number of articles: 98343\n",
      "Number of hyperlinks: 483094\n",
      "Average number of hyperlinks: 4.9\n",
      "Graph density: 0.0000499516\n"
     ]
    }
   ],
   "source": [
    "n_nodes = graph.number_of_nodes()\n",
    "n_edges = graph.number_of_edges()\n",
    "\n",
    "if graph.is_directed():\n",
    "    print('The graph is directed.')\n",
    "else:\n",
    "    print('The graph is not directed.')\n",
    "\n",
    "# Number of articles corresponds to number of nodes src that have an edge src -> dst\n",
    "print('Number of articles: {}'.format(n_nodes))\n",
    "# Number of hyperlinks corresponds to number of edges\n",
    "print('Number of hyperlinks: {}'.format(n_edges))\n",
    "\n",
    "print('Average number of hyperlinks: {:.1f}'.format(n_edges / n_nodes))\n",
    "print('Graph density: {:.10f}'.format(graph.density()))"
   ]
  },
  {
   "cell_type": "markdown",
   "metadata": {},
   "source": [
    "**Observation about sparsity**:\n",
    "\n",
    "The density of a graph is a value between 0 and 1. In our case, the density we obtain from our graph is much closer to zero, meaning we can safely assume that the graph is sparse. In fact, we can also observe that there is actually a really small number of hyperlinks for each node."
   ]
  },
  {
   "cell_type": "code",
   "execution_count": 13,
   "metadata": {
    "execution": {
     "iopub.execute_input": "2021-01-12T23:00:56.977282Z",
     "iopub.status.busy": "2021-01-12T23:00:56.977108Z",
     "iopub.status.idle": "2021-01-12T23:00:57.722399Z",
     "shell.execute_reply": "2021-01-12T23:00:57.721791Z",
     "shell.execute_reply.started": "2021-01-12T23:00:56.977262Z"
    }
   },
   "outputs": [
    {
     "data": {
      "image/png": "[encoded data removed]",
      "text/plain": [
       "<Figure size 1008x432 with 1 Axes>"
      ]
     },
     "metadata": {
      "needs_background": "light"
     },
     "output_type": "display_data"
    }
   ],
   "source": [
    "graph.degree_distribution_plot()"
   ]
  },
  {
   "cell_type": "markdown",
   "metadata": {},
   "source": [
    "# RQ2\n",
    "Implementation of the function that given in input a page $v$ and a number of clicks $d$, returns the set of pages that a user can reach from $v$ within $d$ clicks."
   ]
  },
  {
   "cell_type": "code",
   "execution_count": 14,
   "metadata": {
    "execution": {
     "iopub.execute_input": "2021-01-12T23:01:01.485815Z",
     "iopub.status.busy": "2021-01-12T23:01:01.485527Z",
     "iopub.status.idle": "2021-01-12T23:01:01.499685Z",
     "shell.execute_reply": "2021-01-12T23:01:01.499115Z",
     "shell.execute_reply.started": "2021-01-12T23:01:01.485780Z"
    }
   },
   "outputs": [
    {
     "data": {
      "text/plain": [
       "{783579,\n",
       " 785340,\n",
       " 785517,\n",
       " 786295,\n",
       " 786381,\n",
       " 786382,\n",
       " 786383,\n",
       " 786384,\n",
       " 786385,\n",
       " 786386,\n",
       " 786387,\n",
       " 786388,\n",
       " 786424,\n",
       " 786432,\n",
       " 786433,\n",
       " 787290,\n",
       " 787374,\n",
       " 787377,\n",
       " 787486,\n",
       " 787539,\n",
       " 787552,\n",
       " 787822,\n",
       " 999877,\n",
       " 1000831,\n",
       " 1622313,\n",
       " 1622321,\n",
       " 1622420,\n",
       " 1622647}"
      ]
     },
     "execution_count": 14,
     "metadata": {},
     "output_type": "execute_result"
    }
   ],
   "source": [
    "graph.pages_within_clicks(786432, 2)"
   ]
  },
  {
   "cell_type": "markdown",
   "metadata": {},
   "source": [
    "# RQ3"
   ]
  },
  {
   "cell_type": "code",
   "execution_count": 71,
   "metadata": {
    "execution": {
     "iopub.execute_input": "2021-01-12T23:05:23.775869Z",
     "iopub.status.busy": "2021-01-12T23:05:23.775681Z",
     "iopub.status.idle": "2021-01-12T23:05:23.880864Z",
     "shell.execute_reply": "2021-01-12T23:05:23.880361Z",
     "shell.execute_reply.started": "2021-01-12T23:05:23.775847Z"
    }
   },
   "outputs": [
    {
     "data": {
      "text/plain": [
       "5"
      ]
     },
     "execution_count": 71,
     "metadata": {},
     "output_type": "execute_result"
    }
   ],
   "source": [
    "# Example\n",
    "\n",
    "category = 'English-language_films'\n",
    "\n",
    "pages = {556939, 601747, 930430, 1041649, 1266258}\n",
    "\n",
    "graph.min_clicks(category, pages)"
   ]
  },
  {
   "cell_type": "markdown",
   "metadata": {},
   "source": [
    "# RQ4"
   ]
  },
  {
   "cell_type": "markdown",
   "metadata": {},
   "source": [
    "Before actually applying this function to the subgraph induced by two categories, let's visualize its rationale with an easy example. Let `g` be a directed graph, defined by its edges:\n",
    "\n",
    "\n",
    "(1 $\\to$ 2), \n",
    "(1 $\\to$ 3), \n",
    "(1 $\\to$ 6), \n",
    "(1 $\\to$ 7), \n",
    "(2 $\\to$ 4), \n",
    "(3 $\\to$ 4), \n",
    "(6 $\\to$ 8), \n",
    "(7 $\\to$ 8), \n",
    "(4 $\\to$ 5), \n",
    "(8 $\\to$ 5), \n",
    "(1 $\\to$ 5)\n",
    "\n",
    "Let's use `networkxx` to visualize the graph."
   ]
  },
  {
   "cell_type": "code",
   "execution_count": 11,
   "metadata": {
    "execution": {
     "iopub.execute_input": "2021-01-11T23:05:59.637382Z",
     "iopub.status.busy": "2021-01-11T23:05:59.637253Z",
     "iopub.status.idle": "2021-01-11T23:05:59.803945Z",
     "shell.execute_reply": "2021-01-11T23:05:59.803476Z",
     "shell.execute_reply.started": "2021-01-11T23:05:59.637364Z"
    }
   },
   "outputs": [
    {
     "data": {
      "image/png": "[encoded data removed]",
      "text/plain": [
       "<Figure size 720x360 with 1 Axes>"
      ]
     },
     "metadata": {},
     "output_type": "display_data"
    }
   ],
   "source": [
    "ut.graph_example()"
   ]
  },
  {
   "cell_type": "markdown",
   "metadata": {},
   "source": [
    "Let's say we want to disconnect nodes **1** and **5**. It should be pretty straightforward that the minimum number of edges we need to remove from the graph in order to disconnect the two nodes are:\n",
    "\n",
    "(1 $\\to$ 5), (4 $\\to$ 5), (8 $\\to$ 5).\n",
    "\n",
    "These can be simply obtained by looking at the disjoint paths between 1 and 5, so to actually know the number of edges we need to remove from the graph to disconnect two nodes we just need to see how many disjoint paths connect them.\n",
    "\n",
    "Now we can create the graph, add the edges and see if this works!"
   ]
  },
  {
   "cell_type": "code",
   "execution_count": 72,
   "metadata": {
    "execution": {
     "iopub.execute_input": "2021-01-12T23:06:01.562736Z",
     "iopub.status.busy": "2021-01-12T23:06:01.562530Z",
     "iopub.status.idle": "2021-01-12T23:06:01.600078Z",
     "shell.execute_reply": "2021-01-12T23:06:01.599018Z",
     "shell.execute_reply.started": "2021-01-12T23:06:01.562719Z"
    }
   },
   "outputs": [],
   "source": [
    "g = Graph()\n",
    "\n",
    "edges = [\n",
    "    (1, 2),\n",
    "    (1, 3),\n",
    "    (1, 6),\n",
    "    (1, 7),\n",
    "    (2, 4),\n",
    "    (3, 4),\n",
    "    (6, 8),\n",
    "    (7, 8),\n",
    "    (4, 5),\n",
    "    (8, 5),\n",
    "    (1, 5),\n",
    "]\n",
    "\n",
    "g.add_edges_from(edges)"
   ]
  },
  {
   "cell_type": "code",
   "execution_count": 73,
   "metadata": {
    "execution": {
     "iopub.execute_input": "2021-01-12T23:06:01.984543Z",
     "iopub.status.busy": "2021-01-12T23:06:01.983572Z",
     "iopub.status.idle": "2021-01-12T23:06:02.010763Z",
     "shell.execute_reply": "2021-01-12T23:06:02.009937Z",
     "shell.execute_reply.started": "2021-01-12T23:06:01.984399Z"
    }
   },
   "outputs": [
    {
     "data": {
      "text/plain": [
       "[[1, 2, 4, 5], [1, 5], [1, 6, 8, 5]]"
      ]
     },
     "execution_count": 73,
     "metadata": {},
     "output_type": "execute_result"
    }
   ],
   "source": [
    "d = DisjointPaths(g)\n",
    "d.search(1, 5)\n",
    "d.paths"
   ]
  },
  {
   "cell_type": "code",
   "execution_count": 74,
   "metadata": {
    "execution": {
     "iopub.execute_input": "2021-01-12T23:06:03.956059Z",
     "iopub.status.busy": "2021-01-12T23:06:03.955894Z",
     "iopub.status.idle": "2021-01-12T23:06:03.967152Z",
     "shell.execute_reply": "2021-01-12T23:06:03.966646Z",
     "shell.execute_reply.started": "2021-01-12T23:06:03.956040Z"
    }
   },
   "outputs": [
    {
     "name": "stdout",
     "output_type": "stream",
     "text": [
      "The minimum set of hyperlinks to remove from the graph to disconnect node 1 and 5 is 3.\n"
     ]
    }
   ],
   "source": [
    "print('The minimum set of hyperlinks to remove from the graph to disconnect node 1 and 5 is {}.'.format(min_edge_cut(g, 1, 5)))"
   ]
  },
  {
   "cell_type": "markdown",
   "metadata": {},
   "source": [
    "Let's select now two populated categories. The function `categories_size` is going to print in the number of nodes contained in the graph belonging to each category, over a certain threshold (in this case 1000). We are then going to select two categories that, somehow, seem to be related.\n",
    "\n",
    "Unfortunately, it's not really easy to actually use the function we just created, because the vast majority of subgraphs we can create starting from two categories are going to be poorly connected! It's not that easy to find out two nodes belonging in two different categories with long paths."
   ]
  },
  {
   "cell_type": "code",
   "execution_count": 132,
   "metadata": {
    "execution": {
     "iopub.execute_input": "2021-01-12T23:36:30.126601Z",
     "iopub.status.busy": "2021-01-12T23:36:30.125949Z",
     "iopub.status.idle": "2021-01-12T23:36:30.165230Z",
     "shell.execute_reply": "2021-01-12T23:36:30.164747Z",
     "shell.execute_reply.started": "2021-01-12T23:36:30.126521Z"
    }
   },
   "outputs": [
    {
     "name": "stdout",
     "output_type": "stream",
     "text": [
      "                               Categories Sizes                               \n",
      "------------------------------------------------------------------------------\n",
      "English-language_films                                                 | 13209                                                                 \n",
      "American_film_actors                                                   | 9063                                                                  \n",
      "Main_Belt_asteroids                                                    | 8643                                                                  \n",
      "Rivers_of_Romania                                                      | 7662                                                                  \n",
      "American_films                                                         | 7639                                                                  \n",
      "American_television_actors                                             | 6520                                                                  \n",
      "Members_of_the_United_Kingdom_Parliament_for_English_constituencies    | 6430                                                                  \n",
      "Black-and-white_films                                                  | 5217                                                                  \n",
      "English_footballers                                                    | 3672                                                                  \n",
      "The_Football_League_players                                            | 3625                                                                  \n",
      "Major_League_Baseball_pitchers                                         | 3307                                                                  \n",
      "Harvard_University_alumni                                              | 2966                                                                  \n",
      "Association_football_midfielders                                       | 2748                                                                  \n",
      "Indian_films                                                           | 2746                                                                  \n",
      "Debut_albums                                                           | 2553                                                                  \n",
      "Place_of_birth_missing_(living_people)                                 | 2526                                                                  \n",
      "Association_football_forwards                                          | 2504                                                                  \n",
      "Asteroids_named_for_people                                             | 2355                                                                  \n",
      "Association_football_defenders                                         | 2107                                                                  \n",
      "Year_of_birth_missing                                                  | 1441                                                                  \n",
      "Year_of_death_missing                                                  | 1410                                                                  \n"
     ]
    }
   ],
   "source": [
    "categories_sizes = ut.categories_size(graph)\n",
    "\n",
    "ut.generate_table(categories_sizes, title='Categories Sizes', amount='all')"
   ]
  },
  {
   "cell_type": "code",
   "execution_count": 104,
   "metadata": {
    "execution": {
     "iopub.execute_input": "2021-01-12T23:12:13.985747Z",
     "iopub.status.busy": "2021-01-12T23:12:13.985403Z",
     "iopub.status.idle": "2021-01-12T23:12:14.053313Z",
     "shell.execute_reply": "2021-01-12T23:12:14.052700Z",
     "shell.execute_reply.started": "2021-01-12T23:12:13.985704Z"
    }
   },
   "outputs": [],
   "source": [
    "category1 = 'The_Football_League_players'\n",
    "category2 = 'English_footballers'\n",
    "\n",
    "subgraph = induced_subgraph(graph, category1, category2)"
   ]
  },
  {
   "cell_type": "code",
   "execution_count": 108,
   "metadata": {
    "execution": {
     "iopub.execute_input": "2021-01-12T23:13:23.452587Z",
     "iopub.status.busy": "2021-01-12T23:13:23.452397Z",
     "iopub.status.idle": "2021-01-12T23:13:23.462285Z",
     "shell.execute_reply": "2021-01-12T23:13:23.461746Z",
     "shell.execute_reply.started": "2021-01-12T23:13:23.452569Z"
    }
   },
   "outputs": [
    {
     "name": "stdout",
     "output_type": "stream",
     "text": [
      "The minimum set of hyperlinks to remove from the subgraph to disconnect node 81928 and 82068 is 1.\n"
     ]
    }
   ],
   "source": [
    "print('The minimum set of hyperlinks to remove from the subgraph to disconnect node 81928 and 82068 is {}.'.format(min_edge_cut(subgraph, 81928, 82068)))"
   ]
  },
  {
   "cell_type": "markdown",
   "metadata": {},
   "source": [
    "# RQ5"
   ]
  },
  {
   "cell_type": "code",
   "execution_count": null,
   "metadata": {
    "execution": {
     "iopub.execute_input": "2021-01-12T23:37:29.600903Z",
     "iopub.status.busy": "2021-01-12T23:37:29.600436Z"
    }
   },
   "outputs": [],
   "source": [
    "c1 = 'American_television_actors'\n",
    "\n",
    "ordered_categories = ordered_distances(graph, c1, unique_link_cat_dict)\n",
    "\n",
    "title = \"Category distance from '{}'\".format(c1)\n",
    "ut.generate_table(ordered_categories, title=title, reverse=False)"
   ]
  },
  {
   "cell_type": "markdown",
   "metadata": {},
   "source": [
    "# RQ6"
   ]
  },
  {
   "cell_type": "code",
   "execution_count": 115,
   "metadata": {
    "execution": {
     "iopub.execute_input": "2021-01-12T23:24:13.881425Z",
     "iopub.status.busy": "2021-01-12T23:24:13.881241Z",
     "iopub.status.idle": "2021-01-12T23:24:14.270337Z",
     "shell.execute_reply": "2021-01-12T23:24:14.269797Z",
     "shell.execute_reply.started": "2021-01-12T23:24:13.881407Z"
    }
   },
   "outputs": [],
   "source": [
    "cat_graph = create_category_graph(graph, unique_link_cat_dict)"
   ]
  },
  {
   "cell_type": "code",
   "execution_count": 117,
   "metadata": {
    "execution": {
     "iopub.execute_input": "2021-01-12T23:24:17.199799Z",
     "iopub.status.busy": "2021-01-12T23:24:17.199448Z",
     "iopub.status.idle": "2021-01-12T23:24:17.219904Z",
     "shell.execute_reply": "2021-01-12T23:24:17.218829Z",
     "shell.execute_reply.started": "2021-01-12T23:24:17.199757Z"
    }
   },
   "outputs": [],
   "source": [
    "PR = pagerank(cat_graph)"
   ]
  },
  {
   "cell_type": "code",
   "execution_count": 118,
   "metadata": {
    "execution": {
     "iopub.execute_input": "2021-01-12T23:24:18.495073Z",
     "iopub.status.busy": "2021-01-12T23:24:18.494419Z",
     "iopub.status.idle": "2021-01-12T23:24:18.527093Z",
     "shell.execute_reply": "2021-01-12T23:24:18.526131Z",
     "shell.execute_reply.started": "2021-01-12T23:24:18.494991Z"
    }
   },
   "outputs": [
    {
     "name": "stdout",
     "output_type": "stream",
     "text": [
      "                                      Category PageRank                                      \n",
      "---------------------------------------------------------------------------------------------\n",
      "English-language_films                                                 | 0.07066980197129522                                                   \n",
      "Year_of_death_missing                                                  | 0.054435419782986764                                                  \n",
      "Place_of_birth_missing_(living_people)                                 | 0.054435419782986764                                                  \n",
      "American_television_actors                                             | 0.054435419782986764                                                  \n",
      "American_film_actors                                                   | 0.054435419782986764                                                  \n",
      "Harvard_University_alumni                                              | 0.052204678025950864                                                  \n",
      "Year_of_birth_missing                                                  | 0.0520867241542858                                                    \n",
      "American_films                                                         | 0.05195116574268788                                                   \n",
      "Association_football_midfielders                                       | 0.04973749503114412                                                   \n",
      "Debut_albums                                                           | 0.049637677798678614                                                  \n",
      "Members_of_the_United_Kingdom_Parliament_for_English_constituencies    | 0.04918943234367651                                                   \n",
      "The_Football_League_players                                            | 0.04759461000181427                                                   \n",
      "Association_football_forwards                                          | 0.047239612076406465                                                  \n",
      "Association_football_defenders                                         | 0.04548779030282661                                                   \n",
      "Black-and-white_films                                                  | 0.04460107758863202                                                   \n",
      "Rivers_of_Romania                                                      | 0.04404035817022224                                                   \n",
      "English_footballers                                                    | 0.043181533736476166                                                  \n",
      "Indian_films                                                           | 0.04017030642717242                                                   \n",
      "Major_League_Baseball_pitchers                                         | 0.037707959417696134                                                  \n",
      "Main_Belt_asteroids                                                    | 0.03337677156474871                                                   \n",
      "Asteroids_named_for_people                                             | 0.023381326514339003                                                  \n"
     ]
    }
   ],
   "source": [
    "ut.generate_table(sort_pr(graph, PR), title='Category PageRank')"
   ]
  }
 ],
 "metadata": {
  "kernelspec": {
   "display_name": "Python 3",
   "language": "python",
   "name": "python3"
  },
  "language_info": {
   "codemirror_mode": {
    "name": "ipython",
    "version": 3
   },
   "file_extension": ".py",
   "mimetype": "text/x-python",
   "name": "python",
   "nbconvert_exporter": "python",
   "pygments_lexer": "ipython3",
   "version": "3.7.6"
  }
 },
 "nbformat": 4,
 "nbformat_minor": 4
}
